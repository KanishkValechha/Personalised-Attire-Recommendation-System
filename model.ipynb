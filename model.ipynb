{
 "cells": [
  {
   "cell_type": "code",
   "execution_count": 1,
   "id": "cf47f28c",
   "metadata": {},
   "outputs": [],
   "source": [
    "import pandas as pd\n",
    "import numpy as np\n"
   ]
  },
  {
   "cell_type": "code",
   "execution_count": null,
   "id": "0bd450ee",
   "metadata": {},
   "outputs": [
    {
     "name": "stdout",
     "output_type": "stream",
     "text": [
      "Number of empty strings in 'new_image_url': 440\n"
     ]
    }
   ],
   "source": [
    "df=pd.read_csv('./data/myntra_data_updated_1.csv')\n",
    "print(f\"Shape of DataFrame before deleting rows: {df.shape}\")\n",
    "\n",
    "# Delete rows where 'detected_skin_color_rgb' is 'Invalid URL'\n",
    "df = df[df['detected_skin_color_rgb'] != 'Invalid URL']\n",
    "\n",
    "print(f\"Shape of DataFrame after deleting rows: {df.shape}\")\n",
    "\n",
    "# (Optional) Save the updated DataFrame to a new CSV file\n",
    "df.to_csv('./data/final/data.csv', index=False)\n"
   ]
  }
 ],
 "metadata": {
  "kernelspec": {
   "display_name": ".venv",
   "language": "python",
   "name": "python3"
  },
  "language_info": {
   "codemirror_mode": {
    "name": "ipython",
    "version": 3
   },
   "file_extension": ".py",
   "mimetype": "text/x-python",
   "name": "python",
   "nbconvert_exporter": "python",
   "pygments_lexer": "ipython3",
   "version": "3.12.9"
  }
 },
 "nbformat": 4,
 "nbformat_minor": 5
}
